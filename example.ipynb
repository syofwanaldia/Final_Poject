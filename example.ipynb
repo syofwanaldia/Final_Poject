{
 "cells": [
  {
   "cell_type": "code",
   "execution_count": 1,
   "id": "a874a5a0-195c-4072-978a-ee166b820c7b",
   "metadata": {},
   "outputs": [
    {
     "name": "stdout",
     "output_type": "stream",
     "text": [
      "halo\n"
     ]
    }
   ],
   "source": [
    "print (\"halo\")"
   ]
  },
  {
   "cell_type": "code",
   "execution_count": null,
   "id": "9739744c-4c29-49dd-98fc-59c84e5841c5",
   "metadata": {},
   "outputs": [],
   "source": []
  }
 ],
 "metadata": {
  "kernelspec": {
   "display_name": "Python 3 (ipykernel)",
   "language": "python",
   "name": "python3"
  },
  "language_info": {
   "codemirror_mode": {
    "name": "ipython",
    "version": 3
   },
   "file_extension": ".py",
   "mimetype": "text/x-python",
   "name": "python",
   "nbconvert_exporter": "python",
   "pygments_lexer": "ipython3",
   "version": "3.9.12"
  }
 },
 "nbformat": 4,
 "nbformat_minor": 5
}
